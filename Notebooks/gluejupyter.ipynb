{
 "cells": [
  {
   "cell_type": "markdown",
   "metadata": {},
   "source": [
    "# 3D rendering with glue-viz-jupyter and ipywidget"
   ]
  },
  {
   "cell_type": "code",
   "execution_count": 1,
   "metadata": {},
   "outputs": [],
   "source": [
    "from glue_jupyter import jglue\n",
    "import numpy as np\n",
    "from glue.core import Data, Coordinates\n",
    "import skimage"
   ]
  },
  {
   "cell_type": "code",
   "execution_count": 10,
   "metadata": {},
   "outputs": [],
   "source": [
    "image = skimage.io.imread('../Samples/BMP4blastocystC1.tif')\n",
    "image2 = skimage.io.imread('../Samples/BMP4blastocystC3.tif')\n"
   ]
  },
  {
   "cell_type": "code",
   "execution_count": 11,
   "metadata": {},
   "outputs": [],
   "source": [
    "I = image.astype(float)\n",
    "I = np.swapaxes(I/I.max(),0,1)\n",
    "data = Data()\n",
    "data.coords = Coordinates()\n",
    "data.add_component(I, label='channel1');\n",
    "\n",
    "I = image2.astype(float)\n",
    "I = np.swapaxes(I/I.max(),0,1)\n",
    "data2 = Data()\n",
    "data2.coords = Coordinates()\n",
    "data2.add_component(I, label='channel2');"
   ]
  },
  {
   "cell_type": "code",
   "execution_count": 12,
   "metadata": {},
   "outputs": [],
   "source": [
    "app = jglue()\n",
    "app.add_data(data);\n",
    "app.add_data(data2);"
   ]
  },
  {
   "cell_type": "code",
   "execution_count": 13,
   "metadata": {},
   "outputs": [
    {
     "data": {
      "application/vnd.jupyter.widget-view+json": {
       "model_id": "ab0f6bd5cf5e42a9a4a9a8b446994ffa",
       "version_major": 2,
       "version_minor": 0
      },
      "text/plain": [
       "Html(children=[Toolbar(children=[ToolbarItems(children=[BasicJupyterToolbar(children=[Tooltip(bottom=True, chi…"
      ]
     },
     "metadata": {},
     "output_type": "display_data"
    }
   ],
   "source": [
    "viewobj = app.volshow(data=data)\n",
    "viewobj.figure.ylim = [-0.5,80]\n",
    "viewobj.add_layer(data2)"
   ]
  }
 ],
 "metadata": {
  "kernelspec": {
   "display_name": "Python 3",
   "language": "python",
   "name": "python3"
  },
  "language_info": {
   "codemirror_mode": {
    "name": "ipython",
    "version": 3
   },
   "file_extension": ".py",
   "mimetype": "text/x-python",
   "name": "python",
   "nbconvert_exporter": "python",
   "pygments_lexer": "ipython3",
   "version": "3.7.3"
  },
  "toc": {
   "base_numbering": 1,
   "nav_menu": {},
   "number_sections": false,
   "sideBar": true,
   "skip_h1_title": false,
   "title_cell": "Table of Contents",
   "title_sidebar": "Contents",
   "toc_cell": false,
   "toc_position": {},
   "toc_section_display": true,
   "toc_window_display": true
  }
 },
 "nbformat": 4,
 "nbformat_minor": 2
}
